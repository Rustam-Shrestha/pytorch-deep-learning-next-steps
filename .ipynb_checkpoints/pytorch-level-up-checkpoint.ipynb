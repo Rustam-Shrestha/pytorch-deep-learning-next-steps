{
 "cells": [
  {
   "cell_type": "markdown",
   "id": "684928f9-c429-46f9-8305-9e8726855a05",
   "metadata": {},
   "source": []
  },
  {
   "cell_type": "code",
   "execution_count": 2,
   "id": "6b58a1ed-2cd0-4fa6-b625-2a49f7a1e02b",
   "metadata": {},
   "outputs": [],
   "source": [
    "import pandas as pd\n",
    "from torch.utils.data import Dataset\n",
    "s"
   ]
  },
  {
   "cell_type": "markdown",
   "id": "195e9519-72bd-4090-8717-70cb60441c9f",
   "metadata": {},
   "source": [
    "** load the data and pass it to the model in the right format. In PyTorch, this is handled by Datasets and DataLoaders. Let's start with building a PyTorch Dataset for our water potability data. WaterDataset to load the data from a CSV file. **\n",
    "\n",
    "** three methods which PyTorch expects a Dataset to have:\n",
    "\n",
    "    .__init__() to load the data,\n",
    "    .__len__() to return data size,\n",
    "    .__getitem()__ to extract features and label for a single sample**"
   ]
  },
  {
   "cell_type": "code",
   "execution_count": 5,
   "id": "772c1163-ba4a-400f-ab9e-0b02c5e0550b",
   "metadata": {},
   "outputs": [],
   "source": [
    "class WaterDataset(Dataset):\n",
    "    def __init__(self, csv_path):\n",
    "        super().__init__()\n",
    "        # Load data to pandas DataFrame\n",
    "        df = pd.read_csv(csv_path)\n",
    "        # Convert data to a NumPy array and assign to self.data\n",
    "        self.data = df.to_numpy()"
   ]
  },
  {
   "cell_type": "markdown",
   "id": "49565ee2-4174-4f6b-a856-7ca461c4fc96",
   "metadata": {},
   "source": [
    "the WaterDataset you just created is now available f\n",
    "The next step in preparing the training data is to set up a DataLoader. A PyTorch DataLoader can be created from a Dataset to load data, split it into batches, and perform transformations on the data if desired. Then, it yields a data sample ready for training.\n"
   ]
  },
  {
   "cell_type": "code",
   "execution_count": 7,
   "id": "9b77b22a-307a-476b-8288-c8b7c4b14bdd",
   "metadata": {},
   "outputs": [],
   "source": [
    "class WaterDataset(Dataset):\n",
    "    def __init__(self, csv_path):\n",
    "        super().__init__()\n",
    "        # Load data to pandas DataFrame\n",
    "        df = pd.read_csv(csv_path)\n",
    "        # Convert data to a NumPy array and assign to self.data\n",
    "        self.data = df.to_numpy()\n",
    "        \n",
    "    # Implement __len__ to return the number of data samples\n",
    "    def __len__(self):\n",
    "        return self.data.shape[0]\n",
    "    \n",
    "    def __getitem__(self, idx):\n",
    "        features = self.data[idx, :-1]\n",
    "        # Assign last data column to label\n",
    "        label = self.data[idx,-1]\n",
    "        return features, label"
   ]
  },
  {
   "cell_type": "code",
   "execution_count": null,
   "id": "eff6e3db-2dff-4dd2-a983-fa9daf83211f",
   "metadata": {},
   "outputs": [],
   "source": [
    "# Create an instance of the WaterDataset\n",
    "dataset_train = WaterDataset(\n",
    "    \"water_train.csv\"\n",
    ")\n",
    "\n",
    "# Create a DataLoader based on dataset_train\n",
    "dataloader_train = DataLoader(\n",
    "    dataset_train,\n",
    "    batch_size=2,\n",
    "    shuffle=True,\n",
    ")\n",
    "\n",
    "# Get a batch of features and labels\n",
    "features, labels = next(iter(dataloader_train))\n",
    "print(features, labels)"
   ]
  },
  {
   "cell_type": "markdown",
   "id": "fbccc4f2-40c1-403b-9d6e-d35d17993915",
   "metadata": {},
   "source": [
    "OOP approach to define the model architecture. Recall that this requires setting up a model class and defining two methods inside it:\n",
    "\n",
    "    .__init__(), in which you define the layers you want to use;\n",
    "\n",
    "    forward(), in which you define what happens to the model inputs once it receives them; this is where you pass inputs through pre-defined layers.\n",
    "\n",
    "Let's build a model with three linear layers and ReLU activations. After the last linear layer, you need a sigmoid activation instead, which is well-suited for binary classification tasks like our water potability prediction problem. Here's the model defined using nn.Sequential(), which you may be more familiar with:"
   ]
  },
  {
   "cell_type": "code",
   "execution_count": 5,
   "id": "5502595e-ecc1-43e1-8588-09b33e63800b",
   "metadata": {},
   "outputs": [],
   "source": [
    "import torch.nn as nn\n",
    "import torch.nn.functional as F\n",
    "\n",
    "class Net(nn.Module):\n",
    "    def __init__(self):\n",
    "        super().__init__()\n",
    "        # Define the three linear layers\n",
    "        self.fc1 = nn.Linear(9,16)\n",
    "        self.fc2 = nn.Linear(16,8)\n",
    "        self.fc3 = nn.Linear(8,1)\n",
    "        \n",
    "    def forward(self, x):\n",
    "        # Pass x through linear layers adding activations\n",
    "        x = nn.functional.relu(self.fc1(x))\n",
    "        x = nn.functional.relu(self.fc2(x))\n",
    "        x = nn.functional.sigmoid(self.fc3(x))\n",
    "        return x"
   ]
  },
  {
   "cell_type": "code",
   "execution_count": null,
   "id": "501c238b-933e-479b-85c9-2d7e5f20decb",
   "metadata": {},
   "outputs": [],
   "source": []
  },
  {
   "cell_type": "code",
   "execution_count": null,
   "id": "ba09d20c-456d-4de7-888e-c07ad3bec773",
   "metadata": {},
   "outputs": [],
   "source": []
  },
  {
   "cell_type": "code",
   "execution_count": null,
   "id": "37d22ee3-113d-4b76-9fde-a1c5c74f56e4",
   "metadata": {},
   "outputs": [],
   "source": []
  },
  {
   "cell_type": "code",
   "execution_count": null,
   "id": "0962242a-9171-4b13-a00d-1db04d14a868",
   "metadata": {},
   "outputs": [],
   "source": []
  },
  {
   "cell_type": "code",
   "execution_count": null,
   "id": "3a776612-7fe2-4c8a-9031-ac2580277004",
   "metadata": {},
   "outputs": [],
   "source": []
  },
  {
   "cell_type": "code",
   "execution_count": null,
   "id": "4886e88b-7473-4cc6-a77b-490110c29358",
   "metadata": {},
   "outputs": [],
   "source": []
  },
  {
   "cell_type": "code",
   "execution_count": null,
   "id": "ac58b10f-969e-4a32-8318-03d19796e1c8",
   "metadata": {},
   "outputs": [],
   "source": []
  },
  {
   "cell_type": "code",
   "execution_count": null,
   "id": "e4db18eb-f219-4462-8438-47eff6a36862",
   "metadata": {},
   "outputs": [],
   "source": []
  },
  {
   "cell_type": "code",
   "execution_count": null,
   "id": "f0d4b60c-102e-49bc-851f-97fac00d8bbf",
   "metadata": {},
   "outputs": [],
   "source": []
  },
  {
   "cell_type": "code",
   "execution_count": null,
   "id": "c8f9d404-42b5-4adc-83a7-e32689baab28",
   "metadata": {},
   "outputs": [],
   "source": []
  },
  {
   "cell_type": "code",
   "execution_count": null,
   "id": "829303df-38bd-499b-ad92-92359cf73a02",
   "metadata": {},
   "outputs": [],
   "source": []
  },
  {
   "cell_type": "code",
   "execution_count": null,
   "id": "82017e60-8a80-4892-8cb7-7b0c57858d67",
   "metadata": {},
   "outputs": [],
   "source": []
  },
  {
   "cell_type": "code",
   "execution_count": null,
   "id": "896637b6-4916-428a-862d-ef20413b9992",
   "metadata": {},
   "outputs": [],
   "source": []
  },
  {
   "cell_type": "code",
   "execution_count": null,
   "id": "cf281647-22f6-4ed3-a9e3-5a887f54cf73",
   "metadata": {},
   "outputs": [],
   "source": []
  },
  {
   "cell_type": "code",
   "execution_count": null,
   "id": "fac26995-eadc-42a9-922a-2e3c2f975379",
   "metadata": {},
   "outputs": [],
   "source": []
  },
  {
   "cell_type": "code",
   "execution_count": null,
   "id": "1133b399-59e8-4b9a-85e2-0da70364b272",
   "metadata": {},
   "outputs": [],
   "source": []
  },
  {
   "cell_type": "code",
   "execution_count": null,
   "id": "33eee25e-a6e5-472d-b734-a3d1628c52cf",
   "metadata": {},
   "outputs": [],
   "source": []
  },
  {
   "cell_type": "code",
   "execution_count": null,
   "id": "8f00d9a8-3fdf-4b4f-b153-d4d2a8ce750f",
   "metadata": {},
   "outputs": [],
   "source": []
  },
  {
   "cell_type": "code",
   "execution_count": null,
   "id": "a02c8123-8eaa-461a-ae4a-628ff5591cd4",
   "metadata": {},
   "outputs": [],
   "source": []
  },
  {
   "cell_type": "code",
   "execution_count": null,
   "id": "6892b21b-05e1-43d9-9608-1fe9752740b4",
   "metadata": {},
   "outputs": [],
   "source": []
  },
  {
   "cell_type": "code",
   "execution_count": null,
   "id": "bef862fc-6aae-4a35-beb0-3e590f6ef511",
   "metadata": {},
   "outputs": [],
   "source": []
  }
 ],
 "metadata": {
  "kernelspec": {
   "display_name": "Python 3 (ipykernel)",
   "language": "python",
   "name": "python3"
  },
  "language_info": {
   "codemirror_mode": {
    "name": "ipython",
    "version": 3
   },
   "file_extension": ".py",
   "mimetype": "text/x-python",
   "name": "python",
   "nbconvert_exporter": "python",
   "pygments_lexer": "ipython3",
   "version": "3.12.3"
  }
 },
 "nbformat": 4,
 "nbformat_minor": 5
}
